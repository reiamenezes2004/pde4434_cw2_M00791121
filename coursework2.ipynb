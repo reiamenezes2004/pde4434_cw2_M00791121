{
 "cells": [
  {
   "cell_type": "code",
   "execution_count": 1,
   "id": "f28182ec-a362-43f5-aa9b-9001da3be4c8",
   "metadata": {},
   "outputs": [],
   "source": [
    "import cv2, os, time\n",
    "import numpy as np\n",
    "import tkinter as tk\n",
    "from tkinter import filedialog\n",
    "from PIL import Image, ImageTk"
   ]
  },
  {
   "cell_type": "code",
   "execution_count": 2,
   "id": "35f3fb8b-82c0-49a7-be43-6d03e45c4263",
   "metadata": {},
   "outputs": [],
   "source": [
    "template_dir = \"unocardimages\""
   ]
  },
  {
   "cell_type": "code",
   "execution_count": null,
   "id": "3d862b9f-020d-445f-801b-269cceb7fff3",
   "metadata": {},
   "outputs": [],
   "source": []
  }
 ],
 "metadata": {
  "kernelspec": {
   "display_name": "Python 3 (ipykernel)",
   "language": "python",
   "name": "python3"
  },
  "language_info": {
   "codemirror_mode": {
    "name": "ipython",
    "version": 3
   },
   "file_extension": ".py",
   "mimetype": "text/x-python",
   "name": "python",
   "nbconvert_exporter": "python",
   "pygments_lexer": "ipython3",
   "version": "3.12.0"
  }
 },
 "nbformat": 4,
 "nbformat_minor": 5
}
