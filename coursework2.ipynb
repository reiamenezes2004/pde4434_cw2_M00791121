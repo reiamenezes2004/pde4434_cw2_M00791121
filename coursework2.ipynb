{
 "cells": [
  {
   "cell_type": "code",
   "execution_count": 1,
   "id": "f28182ec-a362-43f5-aa9b-9001da3be4c8",
   "metadata": {},
   "outputs": [],
   "source": [
    "import cv2, os, time\n",
    "import numpy as np\n",
    "import tkinter as tk\n",
    "from tkinter import filedialog\n",
    "from PIL import Image, ImageTk"
   ]
  },
  {
   "cell_type": "code",
   "execution_count": 2,
   "id": "35f3fb8b-82c0-49a7-be43-6d03e45c4263",
   "metadata": {},
   "outputs": [],
   "source": [
    "template_dir = \"unocardimages\""
   ]
  },
  {
   "cell_type": "code",
   "execution_count": 4,
   "id": "39e5738c-d58c-4941-a020-f8e056603ab2",
   "metadata": {},
   "outputs": [],
   "source": [
    "def match_card(input_img):\n",
    "    template_dir = \"unoca\"\n",
    "    gray = cv2.cvtColor(input_img, cv2.COLOR_BGR2GRAY)\n",
    "    best_score = -1\n",
    "    best_label = \"Unknown\"\n",
    "    \n",
    "    for filename in os.listdir(template_dir):\n",
    "        if filename.endswith(\".jpg\") or filename.endswith(\".png\"):\n",
    "            label = os.path.splitext(filename)[0]\n",
    "            template = cv2.imread(os.path.join(template_dir, filename), cv2.IMREAD_GRAYSCALE)\n",
    "            template = cv2.resize(template, (gray.shape[1], gray.shape[0]))\n",
    "            res = cv2.matchTemplate(gray, template, cv2.TM_CCOEFF_NORMED)\n",
    "            _, max_val, _, _ = cv2.minMaxLoc(res)\n",
    "\n",
    "            if max_val > best_score:\n",
    "                best_score = max_val\n",
    "                best_label = label\n",
    "\n",
    "    return best_label, best_score"
   ]
  },
  {
   "cell_type": "code",
   "execution_count": null,
   "id": "e9d18ddb-227f-4086-8dc5-9dacb93d77ec",
   "metadata": {},
   "outputs": [],
   "source": []
  }
 ],
 "metadata": {
  "kernelspec": {
   "display_name": "Python 3 (ipykernel)",
   "language": "python",
   "name": "python3"
  },
  "language_info": {
   "codemirror_mode": {
    "name": "ipython",
    "version": 3
   },
   "file_extension": ".py",
   "mimetype": "text/x-python",
   "name": "python",
   "nbconvert_exporter": "python",
   "pygments_lexer": "ipython3",
   "version": "3.12.0"
  }
 },
 "nbformat": 4,
 "nbformat_minor": 5
}
